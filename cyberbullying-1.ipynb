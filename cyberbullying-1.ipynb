{
 "cells": [
  {
   "cell_type": "markdown",
   "metadata": {},
   "source": [
    "## Cyberbullying Dataset Exploration"
   ]
  },
  {
   "cell_type": "markdown",
   "metadata": {},
   "source": [
    "### Read in the dataset"
   ]
  },
  {
   "cell_type": "code",
   "execution_count": 1,
   "metadata": {},
   "outputs": [
    {
     "data": {
      "text/html": [
       "<div>\n",
       "<style scoped>\n",
       "    .dataframe tbody tr th:only-of-type {\n",
       "        vertical-align: middle;\n",
       "    }\n",
       "\n",
       "    .dataframe tbody tr th {\n",
       "        vertical-align: top;\n",
       "    }\n",
       "\n",
       "    .dataframe thead th {\n",
       "        text-align: right;\n",
       "    }\n",
       "</style>\n",
       "<table border=\"1\" class=\"dataframe\">\n",
       "  <thead>\n",
       "    <tr style=\"text-align: right;\">\n",
       "      <th></th>\n",
       "      <th>label_bullying</th>\n",
       "      <th>text_message</th>\n",
       "    </tr>\n",
       "  </thead>\n",
       "  <tbody>\n",
       "    <tr>\n",
       "      <th>0</th>\n",
       "      <td>0</td>\n",
       "      <td>I like too many songs to have a favorite</td>\n",
       "    </tr>\n",
       "    <tr>\n",
       "      <th>1</th>\n",
       "      <td>0</td>\n",
       "      <td>&lt;/3 ? haha jk! &lt;33</td>\n",
       "    </tr>\n",
       "    <tr>\n",
       "      <th>2</th>\n",
       "      <td>0</td>\n",
       "      <td>Really?!?! Thanks?! haha</td>\n",
       "    </tr>\n",
       "    <tr>\n",
       "      <th>3</th>\n",
       "      <td>0</td>\n",
       "      <td>;(</td>\n",
       "    </tr>\n",
       "    <tr>\n",
       "      <th>4</th>\n",
       "      <td>0</td>\n",
       "      <td>*RAWR*?</td>\n",
       "    </tr>\n",
       "  </tbody>\n",
       "</table>\n",
       "</div>"
      ],
      "text/plain": [
       "   label_bullying                              text_message\n",
       "0               0  I like too many songs to have a favorite\n",
       "1               0                        </3 ? haha jk! <33\n",
       "2               0                  Really?!?! Thanks?! haha\n",
       "3               0                                        ;(\n",
       "4               0                                   *RAWR*?"
      ]
     },
     "execution_count": 1,
     "metadata": {},
     "output_type": "execute_result"
    }
   ],
   "source": [
    "import pandas as pd\n",
    "\n",
    "# This dataset is based on the paper:\n",
    "# \"Using Machine Learning to Detect Cyberbullying\"\n",
    "# In Proceedings of the 2011 10th International Conference on Machine Learning and Applications Workshops\n",
    "# Reynolds, K; Kontostathis, A.; Edwards, L., December 2011.\n",
    "data = pd.read_csv('datasets/formspring-data.csv', header=None)\n",
    "data.columns = ['label_bullying', 'text_message']\n",
    "\n",
    "data.head()"
   ]
  },
  {
   "cell_type": "markdown",
   "metadata": {},
   "source": [
    "### Explore the dataset"
   ]
  },
  {
   "cell_type": "code",
   "execution_count": 2,
   "metadata": {},
   "outputs": [
    {
     "name": "stdout",
     "output_type": "stream",
     "text": [
      "Input data has 13159 rows and 2 columns\n"
     ]
    }
   ],
   "source": [
    "# What is the shape of the dataset?\n",
    "print(\"Input data has {} rows and {} columns\".format(len(data), len(data.columns)))"
   ]
  },
  {
   "cell_type": "code",
   "execution_count": 3,
   "metadata": {},
   "outputs": [
    {
     "name": "stdout",
     "output_type": "stream",
     "text": [
      "Out of 13159 rows, 2054 are bullying, 11105 are not bullying\n"
     ]
    }
   ],
   "source": [
    "# How many bullying/non bullying are there?\n",
    "print(\"Out of {} rows, {} are bullying, {} are not bullying\".format(len(data),\n",
    "                                                       len(data[data['label_bullying']==1]),\n",
    "                                                       len(data[data['label_bullying']==0])))"
   ]
  },
  {
   "cell_type": "code",
   "execution_count": 4,
   "metadata": {},
   "outputs": [
    {
     "name": "stdout",
     "output_type": "stream",
     "text": [
      "Number of null in label: 0\n",
      "Number of null in text: 0\n"
     ]
    }
   ],
   "source": [
    "# How much missing data is there?\n",
    "print(\"Number of null in label: {}\".format(data['label_bullying'].isnull().sum()))\n",
    "print(\"Number of null in text: {}\".format(data['text_message'].isnull().sum()))"
   ]
  },
  {
   "cell_type": "markdown",
   "metadata": {},
   "source": [
    "### Cleaning the dataset"
   ]
  },
  {
   "cell_type": "code",
   "execution_count": 5,
   "metadata": {},
   "outputs": [
    {
     "data": {
      "text/html": [
       "<div>\n",
       "<style scoped>\n",
       "    .dataframe tbody tr th:only-of-type {\n",
       "        vertical-align: middle;\n",
       "    }\n",
       "\n",
       "    .dataframe tbody tr th {\n",
       "        vertical-align: top;\n",
       "    }\n",
       "\n",
       "    .dataframe thead th {\n",
       "        text-align: right;\n",
       "    }\n",
       "</style>\n",
       "<table border=\"1\" class=\"dataframe\">\n",
       "  <thead>\n",
       "    <tr style=\"text-align: right;\">\n",
       "      <th></th>\n",
       "      <th>label_bullying</th>\n",
       "      <th>text_message</th>\n",
       "      <th>text_message_clean</th>\n",
       "    </tr>\n",
       "  </thead>\n",
       "  <tbody>\n",
       "    <tr>\n",
       "      <th>0</th>\n",
       "      <td>0</td>\n",
       "      <td>I like too many songs to have a favorite</td>\n",
       "      <td>I like too many songs to have a favorite</td>\n",
       "    </tr>\n",
       "    <tr>\n",
       "      <th>1</th>\n",
       "      <td>0</td>\n",
       "      <td>&lt;/3 ? haha jk! &lt;33</td>\n",
       "      <td>3  haha jk 33</td>\n",
       "    </tr>\n",
       "    <tr>\n",
       "      <th>2</th>\n",
       "      <td>0</td>\n",
       "      <td>Really?!?! Thanks?! haha</td>\n",
       "      <td>Really Thanks haha</td>\n",
       "    </tr>\n",
       "    <tr>\n",
       "      <th>3</th>\n",
       "      <td>0</td>\n",
       "      <td>;(</td>\n",
       "      <td></td>\n",
       "    </tr>\n",
       "    <tr>\n",
       "      <th>4</th>\n",
       "      <td>0</td>\n",
       "      <td>*RAWR*?</td>\n",
       "      <td>RAWR</td>\n",
       "    </tr>\n",
       "  </tbody>\n",
       "</table>\n",
       "</div>"
      ],
      "text/plain": [
       "   label_bullying                              text_message  \\\n",
       "0               0  I like too many songs to have a favorite   \n",
       "1               0                        </3 ? haha jk! <33   \n",
       "2               0                  Really?!?! Thanks?! haha   \n",
       "3               0                                        ;(   \n",
       "4               0                                   *RAWR*?   \n",
       "\n",
       "                         text_message_clean  \n",
       "0  I like too many songs to have a favorite  \n",
       "1                             3  haha jk 33  \n",
       "2                        Really Thanks haha  \n",
       "3                                            \n",
       "4                                      RAWR  "
      ]
     },
     "execution_count": 5,
     "metadata": {},
     "output_type": "execute_result"
    }
   ],
   "source": [
    "# Remove punctutation\n",
    "import string\n",
    "\n",
    "def remove_punctuation(text):\n",
    "    textNoPunct = \"\".join([char for char in text if char not in string.punctuation])\n",
    "    return textNoPunct\n",
    "\n",
    "data['text_message_clean'] = data['text_message'].apply(lambda x: remove_punctuation(x))\n",
    "\n",
    "data.head()"
   ]
  },
  {
   "cell_type": "markdown",
   "metadata": {},
   "source": [
    "### Tokenization"
   ]
  },
  {
   "cell_type": "code",
   "execution_count": 6,
   "metadata": {},
   "outputs": [
    {
     "data": {
      "text/html": [
       "<div>\n",
       "<style scoped>\n",
       "    .dataframe tbody tr th:only-of-type {\n",
       "        vertical-align: middle;\n",
       "    }\n",
       "\n",
       "    .dataframe tbody tr th {\n",
       "        vertical-align: top;\n",
       "    }\n",
       "\n",
       "    .dataframe thead th {\n",
       "        text-align: right;\n",
       "    }\n",
       "</style>\n",
       "<table border=\"1\" class=\"dataframe\">\n",
       "  <thead>\n",
       "    <tr style=\"text-align: right;\">\n",
       "      <th></th>\n",
       "      <th>label_bullying</th>\n",
       "      <th>text_message</th>\n",
       "      <th>text_message_clean</th>\n",
       "      <th>text_message_tokens</th>\n",
       "    </tr>\n",
       "  </thead>\n",
       "  <tbody>\n",
       "    <tr>\n",
       "      <th>0</th>\n",
       "      <td>0</td>\n",
       "      <td>I like too many songs to have a favorite</td>\n",
       "      <td>I like too many songs to have a favorite</td>\n",
       "      <td>[i, like, too, many, songs, to, have, a, favor...</td>\n",
       "    </tr>\n",
       "    <tr>\n",
       "      <th>1</th>\n",
       "      <td>0</td>\n",
       "      <td>&lt;/3 ? haha jk! &lt;33</td>\n",
       "      <td>3  haha jk 33</td>\n",
       "      <td>[3, haha, jk, 33]</td>\n",
       "    </tr>\n",
       "    <tr>\n",
       "      <th>2</th>\n",
       "      <td>0</td>\n",
       "      <td>Really?!?! Thanks?! haha</td>\n",
       "      <td>Really Thanks haha</td>\n",
       "      <td>[really, thanks, haha]</td>\n",
       "    </tr>\n",
       "    <tr>\n",
       "      <th>3</th>\n",
       "      <td>0</td>\n",
       "      <td>;(</td>\n",
       "      <td></td>\n",
       "      <td>[]</td>\n",
       "    </tr>\n",
       "    <tr>\n",
       "      <th>4</th>\n",
       "      <td>0</td>\n",
       "      <td>*RAWR*?</td>\n",
       "      <td>RAWR</td>\n",
       "      <td>[rawr]</td>\n",
       "    </tr>\n",
       "  </tbody>\n",
       "</table>\n",
       "</div>"
      ],
      "text/plain": [
       "   label_bullying                              text_message  \\\n",
       "0               0  I like too many songs to have a favorite   \n",
       "1               0                        </3 ? haha jk! <33   \n",
       "2               0                  Really?!?! Thanks?! haha   \n",
       "3               0                                        ;(   \n",
       "4               0                                   *RAWR*?   \n",
       "\n",
       "                         text_message_clean  \\\n",
       "0  I like too many songs to have a favorite   \n",
       "1                             3  haha jk 33   \n",
       "2                        Really Thanks haha   \n",
       "3                                             \n",
       "4                                      RAWR   \n",
       "\n",
       "                                 text_message_tokens  \n",
       "0  [i, like, too, many, songs, to, have, a, favor...  \n",
       "1                                  [3, haha, jk, 33]  \n",
       "2                             [really, thanks, haha]  \n",
       "3                                                 []  \n",
       "4                                             [rawr]  "
      ]
     },
     "execution_count": 6,
     "metadata": {},
     "output_type": "execute_result"
    }
   ],
   "source": [
    "import re\n",
    "\n",
    "def tokenize(text):\n",
    "    tokens = re.split('\\W+', text)\n",
    "    return tokens\n",
    "\n",
    "# Lowercase all tokens here also\n",
    "data['text_message_tokens'] = data['text_message_clean'].apply(lambda x: tokenize(x.lower()))\n",
    "\n",
    "data.head()"
   ]
  },
  {
   "cell_type": "markdown",
   "metadata": {},
   "source": [
    "### Removing Stopwords"
   ]
  },
  {
   "cell_type": "code",
   "execution_count": 7,
   "metadata": {},
   "outputs": [
    {
     "data": {
      "text/html": [
       "<div>\n",
       "<style scoped>\n",
       "    .dataframe tbody tr th:only-of-type {\n",
       "        vertical-align: middle;\n",
       "    }\n",
       "\n",
       "    .dataframe tbody tr th {\n",
       "        vertical-align: top;\n",
       "    }\n",
       "\n",
       "    .dataframe thead th {\n",
       "        text-align: right;\n",
       "    }\n",
       "</style>\n",
       "<table border=\"1\" class=\"dataframe\">\n",
       "  <thead>\n",
       "    <tr style=\"text-align: right;\">\n",
       "      <th></th>\n",
       "      <th>label_bullying</th>\n",
       "      <th>text_message</th>\n",
       "      <th>text_message_clean</th>\n",
       "      <th>text_message_tokens</th>\n",
       "      <th>text_no_stopwords</th>\n",
       "    </tr>\n",
       "  </thead>\n",
       "  <tbody>\n",
       "    <tr>\n",
       "      <th>0</th>\n",
       "      <td>0</td>\n",
       "      <td>I like too many songs to have a favorite</td>\n",
       "      <td>I like too many songs to have a favorite</td>\n",
       "      <td>[i, like, too, many, songs, to, have, a, favor...</td>\n",
       "      <td>[like, many, songs, favorite]</td>\n",
       "    </tr>\n",
       "    <tr>\n",
       "      <th>1</th>\n",
       "      <td>0</td>\n",
       "      <td>&lt;/3 ? haha jk! &lt;33</td>\n",
       "      <td>3  haha jk 33</td>\n",
       "      <td>[3, haha, jk, 33]</td>\n",
       "      <td>[3, haha, jk, 33]</td>\n",
       "    </tr>\n",
       "    <tr>\n",
       "      <th>2</th>\n",
       "      <td>0</td>\n",
       "      <td>Really?!?! Thanks?! haha</td>\n",
       "      <td>Really Thanks haha</td>\n",
       "      <td>[really, thanks, haha]</td>\n",
       "      <td>[really, thanks, haha]</td>\n",
       "    </tr>\n",
       "    <tr>\n",
       "      <th>3</th>\n",
       "      <td>0</td>\n",
       "      <td>;(</td>\n",
       "      <td></td>\n",
       "      <td>[]</td>\n",
       "      <td>[]</td>\n",
       "    </tr>\n",
       "    <tr>\n",
       "      <th>4</th>\n",
       "      <td>0</td>\n",
       "      <td>*RAWR*?</td>\n",
       "      <td>RAWR</td>\n",
       "      <td>[rawr]</td>\n",
       "      <td>[rawr]</td>\n",
       "    </tr>\n",
       "  </tbody>\n",
       "</table>\n",
       "</div>"
      ],
      "text/plain": [
       "   label_bullying                              text_message  \\\n",
       "0               0  I like too many songs to have a favorite   \n",
       "1               0                        </3 ? haha jk! <33   \n",
       "2               0                  Really?!?! Thanks?! haha   \n",
       "3               0                                        ;(   \n",
       "4               0                                   *RAWR*?   \n",
       "\n",
       "                         text_message_clean  \\\n",
       "0  I like too many songs to have a favorite   \n",
       "1                             3  haha jk 33   \n",
       "2                        Really Thanks haha   \n",
       "3                                             \n",
       "4                                      RAWR   \n",
       "\n",
       "                                 text_message_tokens  \\\n",
       "0  [i, like, too, many, songs, to, have, a, favor...   \n",
       "1                                  [3, haha, jk, 33]   \n",
       "2                             [really, thanks, haha]   \n",
       "3                                                 []   \n",
       "4                                             [rawr]   \n",
       "\n",
       "               text_no_stopwords  \n",
       "0  [like, many, songs, favorite]  \n",
       "1              [3, haha, jk, 33]  \n",
       "2         [really, thanks, haha]  \n",
       "3                             []  \n",
       "4                         [rawr]  "
      ]
     },
     "execution_count": 7,
     "metadata": {},
     "output_type": "execute_result"
    }
   ],
   "source": [
    "import nltk\n",
    "\n",
    "stopwords = nltk.corpus.stopwords.words('english')\n",
    "\n",
    "def remove_stopwords(tokenized_list):\n",
    "    withoutStopwords = [word for word in tokenized_list if word not in stopwords]\n",
    "    return withoutStopwords\n",
    "\n",
    "data['text_no_stopwords'] = data['text_message_tokens'].apply(lambda x: remove_stopwords(x))\n",
    "\n",
    "data.head()"
   ]
  },
  {
   "cell_type": "code",
   "execution_count": null,
   "metadata": {},
   "outputs": [],
   "source": []
  }
 ],
 "metadata": {
  "kernelspec": {
   "display_name": "Python 3",
   "language": "python",
   "name": "python3"
  },
  "language_info": {
   "codemirror_mode": {
    "name": "ipython",
    "version": 3
   },
   "file_extension": ".py",
   "mimetype": "text/x-python",
   "name": "python",
   "nbconvert_exporter": "python",
   "pygments_lexer": "ipython3",
   "version": "3.7.6"
  }
 },
 "nbformat": 4,
 "nbformat_minor": 2
}
